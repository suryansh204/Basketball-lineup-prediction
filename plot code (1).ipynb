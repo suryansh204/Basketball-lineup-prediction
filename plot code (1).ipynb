{
 "cells": [
  {
   "cell_type": "code",
   "execution_count": null,
   "id": "5e4f4c9d-5674-4193-9bdb-0fea8c646d46",
   "metadata": {},
   "outputs": [],
   "source": [
    "#add these two packages at the start of the notebook\n",
    "install.packages(\"plotly\")\n",
    "library(\"plotly\")\n",
    "\n",
    "#code for 3D plot\n",
    "figure_3D <- plot_ly(lineup_train, x = ~TSP, y = ~PPP, z = ~P_M, \n",
    "               marker = list(size=3, color = ~'rgba(56, 121, 235, 0.6)', showscale = FALSE))\n",
    "figure_3D <- fig %>% add_markers()\n",
    "figure_3D <- fig %>% layout(scene = list(xaxis = list(title = 'True shooting percentage'),\n",
    "                                   yaxis = list(title = 'Points per possession'),\n",
    "                                   zaxis = list(title = 'Plus Minus')))\n",
    "figure_3D"
   ]
  }
 ],
 "metadata": {
  "kernelspec": {
   "display_name": "R",
   "language": "R",
   "name": "ir"
  },
  "language_info": {
   "codemirror_mode": "r",
   "file_extension": ".r",
   "mimetype": "text/x-r-source",
   "name": "R",
   "pygments_lexer": "r",
   "version": "4.1.3"
  }
 },
 "nbformat": 4,
 "nbformat_minor": 5
}
